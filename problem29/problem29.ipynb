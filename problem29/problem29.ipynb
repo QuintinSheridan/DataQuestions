{
 "cells": [
  {
   "cell_type": "markdown",
   "metadata": {},
   "source": [
    "## You're given a table called userActivityLogs. This table contains data on each time a user opens into Application X. Below is some sample data from this table. You can assume this table has all the historical data one would expect (this table will be large assuming Application X has a number of loyal users).\n",
    "\n",
    "## Application X defines an active user as one that has opened the application within the last 30 days. Using SQL, can you write a query that outputs users who are inactive? Your output should have userid and the number of days since the last login.\n"
   ]
  },
  {
   "cell_type": "code",
   "execution_count": 1,
   "metadata": {},
   "outputs": [],
   "source": [
    "import pandas as pd\n",
    "import numpy as np\n",
    "import sqlite3"
   ]
  },
  {
   "cell_type": "code",
   "execution_count": 2,
   "metadata": {},
   "outputs": [],
   "source": [
    "def create_connection(db_file):\n",
    "    \"\"\" create a database connection to the SQLite database\n",
    "        specified by the db_file\n",
    "    :param db_file: database file\n",
    "    :return: Connection object or None\n",
    "    \"\"\"\n",
    "    conn = None\n",
    "    try:\n",
    "        conn = sqlite3.connect(db_file)\n",
    "    except Exception as e:\n",
    "        print(e)\n",
    " \n",
    "    return conn\n",
    "\n"
   ]
  },
  {
   "cell_type": "code",
   "execution_count": 10,
   "metadata": {},
   "outputs": [],
   "source": [
    "def create_tables():\n",
    "    '''Function to create tables\n",
    "    Args:\n",
    "        None\n",
    "    Returns:\n",
    "        None\n",
    "    '''\n",
    "\n",
    "    conn = create_connection('problem29.db')\n",
    "    cur = conn.cursor()\n",
    "    \n",
    "    query = '''\n",
    "    CREATE TABLE IF NOT EXISTS user_activity_logs(\n",
    "    user_id int NOT NULL,\n",
    "    date DATETIME NOT NULL,\n",
    "    session_duration int,\n",
    "    start_timestamp DATETIME DEFAULT CURRENT_TIMESTAMP,\n",
    "    end_timestamp DATETIME DEFAULT CURRENT_TIMESTAMP\n",
    "    );\n",
    "    '''\n",
    "    \n",
    "    cur.execute(query)\n",
    "    \n",
    "    insert_query = '''\n",
    "    INSERT INTO user_activity_logs (user_id, date)\n",
    "    VALUES  (?,?);\n",
    "    '''\n",
    "    \n",
    "    cur.execute(insert_query, (149281, '2020-03-20'))\n",
    "    \n",
    "    conn.commit()\n",
    "                \n",
    "    \n",
    "create_tables()                \n",
    "    "
   ]
  },
  {
   "cell_type": "code",
   "execution_count": 17,
   "metadata": {},
   "outputs": [
    {
     "name": "stdout",
     "output_type": "stream",
     "text": [
      "[('2020-02-27',)]\n"
     ]
    }
   ],
   "source": [
    "conn = create_connection('problem29.db')\n",
    "cur = conn.cursor()\n",
    "cur.execute(\"SELECT DATE('now', '-30 day')\")\n",
    "result=cur.fetchall()\n",
    "print(result)\n",
    "\n",
    "#df = pd.read_sql('SELECT * FROM user_activity_logs', conn)\n",
    "#df"
   ]
  },
  {
   "cell_type": "code",
   "execution_count": 24,
   "metadata": {},
   "outputs": [
    {
     "data": {
      "text/html": [
       "<div>\n",
       "<style scoped>\n",
       "    .dataframe tbody tr th:only-of-type {\n",
       "        vertical-align: middle;\n",
       "    }\n",
       "\n",
       "    .dataframe tbody tr th {\n",
       "        vertical-align: top;\n",
       "    }\n",
       "\n",
       "    .dataframe thead th {\n",
       "        text-align: right;\n",
       "    }\n",
       "</style>\n",
       "<table border=\"1\" class=\"dataframe\">\n",
       "  <thead>\n",
       "    <tr style=\"text-align: right;\">\n",
       "      <th></th>\n",
       "      <th>user_id</th>\n",
       "      <th>date</th>\n",
       "    </tr>\n",
       "  </thead>\n",
       "  <tbody>\n",
       "    <tr>\n",
       "      <th>0</th>\n",
       "      <td>149281</td>\n",
       "      <td>2020-03-20</td>\n",
       "    </tr>\n",
       "  </tbody>\n",
       "</table>\n",
       "</div>"
      ],
      "text/plain": [
       "   user_id        date\n",
       "0   149281  2020-03-20"
      ]
     },
     "execution_count": 24,
     "metadata": {},
     "output_type": "execute_result"
    }
   ],
   "source": [
    "def get_inactive_users():\n",
    "    conn = conn = create_connection('problem29.db')\n",
    "    \n",
    "    query = '''\n",
    "    SELECT \n",
    "        user_id, \n",
    "        date\n",
    "    FROM\n",
    "        user_activity_logs,\n",
    "        (SELECT DATE('now', '-30 day') as window) as sub1\n",
    "    WHERE\n",
    "        date > sub1.window\n",
    "    '''\n",
    "    \n",
    "    inactive_users_df = pd.read_sql(query, conn)\n",
    "    \n",
    "    return inactive_users_df\n",
    "\n",
    "inactive_users_df = get_inactive_users()\n",
    "inactive_users_df\n",
    "    "
   ]
  },
  {
   "cell_type": "code",
   "execution_count": null,
   "metadata": {},
   "outputs": [],
   "source": []
  }
 ],
 "metadata": {
  "kernelspec": {
   "display_name": "Python 3",
   "language": "python",
   "name": "python3"
  },
  "language_info": {
   "codemirror_mode": {
    "name": "ipython",
    "version": 3
   },
   "file_extension": ".py",
   "mimetype": "text/x-python",
   "name": "python",
   "nbconvert_exporter": "python",
   "pygments_lexer": "ipython3",
   "version": "3.6.8"
  }
 },
 "nbformat": 4,
 "nbformat_minor": 2
}
