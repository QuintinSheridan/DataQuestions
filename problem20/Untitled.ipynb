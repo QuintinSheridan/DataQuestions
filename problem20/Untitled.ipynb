{
 "cells": [
  {
   "cell_type": "code",
   "execution_count": 1,
   "metadata": {},
   "outputs": [],
   "source": [
    "# Filtering student information with Pandas\n",
    "# Data Analysis Python Pandas Data Manipulation Filtering\n",
    "# Suppose you have a dataframe, df, with the following records:\n",
    "\n",
    "\n",
    "# Age\tFavorite Color\tGrade\tName\n",
    "# 20\tblue\t88\tWillard Morris\n",
    "# 19\tblue\t95\tAl Jennings\n",
    "# 22\tyellow\t92\tOmar Mullins\n",
    "# 21\tgreen\t70\tSpencer McDaniel\n",
    "\n",
    "# The dataframe is showing information about a group of students. Write code using Python Pandas \n",
    "# to select the rows where the students' favorite color is blue or yellow and their grade is above 90.\n"
   ]
  },
  {
   "cell_type": "code",
   "execution_count": 2,
   "metadata": {},
   "outputs": [],
   "source": [
    "import pandas as pd"
   ]
  },
  {
   "cell_type": "code",
   "execution_count": 3,
   "metadata": {},
   "outputs": [],
   "source": [
    "df = pd.DataFrame({\n",
    "    'Age':[20,19,22,21],\n",
    "    'Favorite Color':['blue', 'blue', 'yellow', 'green'],\n",
    "    'Grade':[88,95,92,70],\n",
    "    'Name':['Willar Morris', 'Al Jennings', 'Omar Mullins', 'Spencer McDaniel']\n",
    "})"
   ]
  },
  {
   "cell_type": "code",
   "execution_count": 4,
   "metadata": {},
   "outputs": [
    {
     "data": {
      "text/html": [
       "<div>\n",
       "<style scoped>\n",
       "    .dataframe tbody tr th:only-of-type {\n",
       "        vertical-align: middle;\n",
       "    }\n",
       "\n",
       "    .dataframe tbody tr th {\n",
       "        vertical-align: top;\n",
       "    }\n",
       "\n",
       "    .dataframe thead th {\n",
       "        text-align: right;\n",
       "    }\n",
       "</style>\n",
       "<table border=\"1\" class=\"dataframe\">\n",
       "  <thead>\n",
       "    <tr style=\"text-align: right;\">\n",
       "      <th></th>\n",
       "      <th>Age</th>\n",
       "      <th>Favorite Color</th>\n",
       "      <th>Grade</th>\n",
       "      <th>Name</th>\n",
       "    </tr>\n",
       "  </thead>\n",
       "  <tbody>\n",
       "    <tr>\n",
       "      <th>1</th>\n",
       "      <td>19</td>\n",
       "      <td>blue</td>\n",
       "      <td>95</td>\n",
       "      <td>Al Jennings</td>\n",
       "    </tr>\n",
       "    <tr>\n",
       "      <th>2</th>\n",
       "      <td>22</td>\n",
       "      <td>yellow</td>\n",
       "      <td>92</td>\n",
       "      <td>Omar Mullins</td>\n",
       "    </tr>\n",
       "  </tbody>\n",
       "</table>\n",
       "</div>"
      ],
      "text/plain": [
       "   Age Favorite Color  Grade          Name\n",
       "1   19           blue     95   Al Jennings\n",
       "2   22         yellow     92  Omar Mullins"
      ]
     },
     "execution_count": 4,
     "metadata": {},
     "output_type": "execute_result"
    }
   ],
   "source": [
    "df[(df['Grade']>90) & (df['Favorite Color'].isin(['blue', 'yellow']))]"
   ]
  },
  {
   "cell_type": "code",
   "execution_count": null,
   "metadata": {},
   "outputs": [],
   "source": [
    "n b"
   ]
  }
 ],
 "metadata": {
  "kernelspec": {
   "display_name": "Python 3",
   "language": "python",
   "name": "python3"
  },
  "language_info": {
   "codemirror_mode": {
    "name": "ipython",
    "version": 3
   },
   "file_extension": ".py",
   "mimetype": "text/x-python",
   "name": "python",
   "nbconvert_exporter": "python",
   "pygments_lexer": "ipython3",
   "version": "3.6.8"
  }
 },
 "nbformat": 4,
 "nbformat_minor": 2
}
