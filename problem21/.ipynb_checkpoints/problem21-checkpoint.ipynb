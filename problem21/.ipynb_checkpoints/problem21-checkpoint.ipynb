{
 "cells": [
  {
   "cell_type": "code",
   "execution_count": null,
   "metadata": {},
   "outputs": [],
   "source": [
    "# Airbnb stays by country\n",
    "# SQL Database Querying\n",
    "# Suppose you work for Airbnb as an analyst. A team has come to you asking for a ranked list containing total # stays as well as total revenue, split by country. The time frame they're looking for is all stays that began in 2018. You can sort the list in descending order by revenue.\n",
    "\n",
    "# The table schemas are provided below. Using SQL, write a query to answer this question.\n",
    "\n",
    "\n",
    "# Table: property_location_info\n",
    "\n",
    "# Column Name\tData Type\tDescription\n",
    "# property_id\tinteger\tID of the property location\n",
    "# country\tstring\tcountry code of the property location\n",
    "# city_name\tstring\tname of city (note there can be multiple cities with the same name)\n",
    "# subregion_name\tstring\tprovence, state, or subregion name\n",
    "# address\tstring\taddress of property location\n",
    "# Table: stays_info\n",
    "\n",
    "# Column Name\tData Type\tDescription\n",
    "# guest_id\tinteger\tID of guest\n",
    "# property_id\tinteger\tID of the property location\n",
    "# host_id\tinteger\tID of the host managing the property\n",
    "# revenue\tinteger\tcost of stay for guest in USD\n",
    "# date_start\tstring\tstart day of stay, format is \"YYYY-mm-dd\"\n",
    "# date_end\tstring\tend day of stay, format is \"YYYY-mm-dd\"\n",
    "# stay_length\tinteger\tnumber of days for the stay\n",
    "# airbnb_revenue\tinteger\trevenue that Airbnb collected on stay\n"
   ]
  },
  {
   "cell_type": "code",
   "execution_count": 1,
   "metadata": {},
   "outputs": [],
   "source": [
    "import pandas as pd\n",
    "import numpy as np\n",
    "import sqlite3"
   ]
  },
  {
   "cell_type": "code",
   "execution_count": 2,
   "metadata": {},
   "outputs": [],
   "source": [
    "def create_connection(db_file):\n",
    "    \"\"\" create a database connection to the SQLite database\n",
    "        specified by the db_file\n",
    "    :param db_file: database file\n",
    "    :return: Connection object or None\n",
    "    \"\"\"\n",
    "    conn = None\n",
    "    try:\n",
    "        conn = sqlite3.connect(db_file)\n",
    "    except Error as e:\n",
    "        print(e)\n",
    " \n",
    "    return conn\n",
    "\n"
   ]
  },
  {
   "cell_type": "code",
   "execution_count": 3,
   "metadata": {},
   "outputs": [],
   "source": [
    "def create_tables():\n",
    "    '''Function to create tables\n",
    "    Args:\n",
    "        None\n",
    "    Returns:\n",
    "        None\n",
    "    '''\n",
    "\n",
    "    conn = create_connection('problem25.db')\n",
    "    cur = conn.cursor()\n",
    "    \n",
    "    cur.execute('DROP TABLE IF EXISTS property_location_info')\n",
    "    cur.execute('DROP TABLE IF EXISTS sta')\n",
    "    cur.execute('DROP TABLE IF EXISTS sales')\n",
    "    conn.commit()\n",
    "\n",
    "    "
   ]
  },
  {
   "cell_type": "code",
   "execution_count": null,
   "metadata": {},
   "outputs": [],
   "source": []
  }
 ],
 "metadata": {
  "kernelspec": {
   "display_name": "Python 3",
   "language": "python",
   "name": "python3"
  },
  "language_info": {
   "codemirror_mode": {
    "name": "ipython",
    "version": 3
   },
   "file_extension": ".py",
   "mimetype": "text/x-python",
   "name": "python",
   "nbconvert_exporter": "python",
   "pygments_lexer": "ipython3",
   "version": "3.6.8"
  }
 },
 "nbformat": 4,
 "nbformat_minor": 2
}
