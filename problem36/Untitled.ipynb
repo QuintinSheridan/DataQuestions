{
 "cells": [
  {
   "cell_type": "markdown",
   "metadata": {},
   "source": [
    "You are given the following dataset, containing closing stock prices for a number of large publicly traded companies. Using this, find the Pearson correlation coefficient for the returns of each pair of equities, and plot a correlation matrix.\n",
    "\n",
    "Solution will be written in Python for premium users.\n",
    "\n",
    "\n",
    "\n",
    "You can view the solutions to your past questions by logging into your account. A solution for this question will appear in your account by tomorrow (though, we'd recommend trying to solve on your own before viewing).\n",
    "\n"
   ]
  },
  {
   "cell_type": "code",
   "execution_count": 1,
   "metadata": {},
   "outputs": [],
   "source": [
    "import pandas as pd\n",
    "import numpy as np\n",
    "import seaborn as sns\n",
    "from numpy import corrcoef\n",
    "from matplotlib import pyplot as plt\n",
    "\n",
    "%matplotlib inline\n"
   ]
  },
  {
   "cell_type": "code",
   "execution_count": 2,
   "metadata": {},
   "outputs": [],
   "source": [
    "df = pd.read_csv('https://raw.githubusercontent.com/erood/interviewqs.com_code_snippets/master/Datasets/stock_prices_ddi.csv')"
   ]
  },
  {
   "cell_type": "code",
   "execution_count": 3,
   "metadata": {},
   "outputs": [
    {
     "data": {
      "text/html": [
       "<div>\n",
       "<style scoped>\n",
       "    .dataframe tbody tr th:only-of-type {\n",
       "        vertical-align: middle;\n",
       "    }\n",
       "\n",
       "    .dataframe tbody tr th {\n",
       "        vertical-align: top;\n",
       "    }\n",
       "\n",
       "    .dataframe thead th {\n",
       "        text-align: right;\n",
       "    }\n",
       "</style>\n",
       "<table border=\"1\" class=\"dataframe\">\n",
       "  <thead>\n",
       "    <tr style=\"text-align: right;\">\n",
       "      <th></th>\n",
       "      <th>Unnamed: 0</th>\n",
       "      <th>Date</th>\n",
       "      <th>Close</th>\n",
       "      <th>Symbol</th>\n",
       "    </tr>\n",
       "  </thead>\n",
       "  <tbody>\n",
       "    <tr>\n",
       "      <th>0</th>\n",
       "      <td>0</td>\n",
       "      <td>2018-01-02</td>\n",
       "      <td>172.259995</td>\n",
       "      <td>AAPL</td>\n",
       "    </tr>\n",
       "    <tr>\n",
       "      <th>1</th>\n",
       "      <td>1</td>\n",
       "      <td>2018-01-03</td>\n",
       "      <td>172.229996</td>\n",
       "      <td>AAPL</td>\n",
       "    </tr>\n",
       "    <tr>\n",
       "      <th>2</th>\n",
       "      <td>2</td>\n",
       "      <td>2018-01-04</td>\n",
       "      <td>173.029999</td>\n",
       "      <td>AAPL</td>\n",
       "    </tr>\n",
       "    <tr>\n",
       "      <th>3</th>\n",
       "      <td>3</td>\n",
       "      <td>2018-01-05</td>\n",
       "      <td>175.000000</td>\n",
       "      <td>AAPL</td>\n",
       "    </tr>\n",
       "    <tr>\n",
       "      <th>4</th>\n",
       "      <td>4</td>\n",
       "      <td>2018-01-08</td>\n",
       "      <td>174.350006</td>\n",
       "      <td>AAPL</td>\n",
       "    </tr>\n",
       "  </tbody>\n",
       "</table>\n",
       "</div>"
      ],
      "text/plain": [
       "   Unnamed: 0        Date       Close Symbol\n",
       "0           0  2018-01-02  172.259995   AAPL\n",
       "1           1  2018-01-03  172.229996   AAPL\n",
       "2           2  2018-01-04  173.029999   AAPL\n",
       "3           3  2018-01-05  175.000000   AAPL\n",
       "4           4  2018-01-08  174.350006   AAPL"
      ]
     },
     "execution_count": 3,
     "metadata": {},
     "output_type": "execute_result"
    }
   ],
   "source": [
    "df.head()"
   ]
  },
  {
   "cell_type": "code",
   "execution_count": 4,
   "metadata": {},
   "outputs": [
    {
     "data": {
      "text/plain": [
       "Unnamed: 0      int64\n",
       "Date           object\n",
       "Close         float64\n",
       "Symbol         object\n",
       "dtype: object"
      ]
     },
     "execution_count": 4,
     "metadata": {},
     "output_type": "execute_result"
    }
   ],
   "source": [
    "df.dtypes"
   ]
  },
  {
   "cell_type": "code",
   "execution_count": 5,
   "metadata": {},
   "outputs": [
    {
     "name": "stdout",
     "output_type": "stream",
     "text": [
      "<class 'pandas.core.frame.DataFrame'>\n",
      "RangeIndex: 3352 entries, 0 to 3351\n",
      "Data columns (total 4 columns):\n",
      "Unnamed: 0    3352 non-null int64\n",
      "Date          3352 non-null object\n",
      "Close         3352 non-null float64\n",
      "Symbol        3352 non-null object\n",
      "dtypes: float64(1), int64(1), object(2)\n",
      "memory usage: 104.9+ KB\n"
     ]
    }
   ],
   "source": [
    "df.info()"
   ]
  },
  {
   "cell_type": "code",
   "execution_count": 6,
   "metadata": {},
   "outputs": [
    {
     "data": {
      "text/plain": [
       "array(['AAPL', 'F', 'TWTR', 'FB', 'AAL', 'AMZN', 'GOOGL', 'GE'],\n",
       "      dtype=object)"
      ]
     },
     "execution_count": 6,
     "metadata": {},
     "output_type": "execute_result"
    }
   ],
   "source": [
    "df['Symbol'].unique()"
   ]
  },
  {
   "cell_type": "code",
   "execution_count": 7,
   "metadata": {},
   "outputs": [
    {
     "data": {
      "text/html": [
       "<div>\n",
       "<style scoped>\n",
       "    .dataframe tbody tr th:only-of-type {\n",
       "        vertical-align: middle;\n",
       "    }\n",
       "\n",
       "    .dataframe tbody tr th {\n",
       "        vertical-align: top;\n",
       "    }\n",
       "\n",
       "    .dataframe thead th {\n",
       "        text-align: right;\n",
       "    }\n",
       "</style>\n",
       "<table border=\"1\" class=\"dataframe\">\n",
       "  <thead>\n",
       "    <tr style=\"text-align: right;\">\n",
       "      <th></th>\n",
       "      <th>Unnamed: 0</th>\n",
       "      <th>Date</th>\n",
       "      <th>Close</th>\n",
       "      <th>Symbol</th>\n",
       "      <th>AAL</th>\n",
       "      <th>AAPL</th>\n",
       "      <th>AMZN</th>\n",
       "      <th>F</th>\n",
       "      <th>FB</th>\n",
       "      <th>GE</th>\n",
       "      <th>GOOGL</th>\n",
       "      <th>TWTR</th>\n",
       "    </tr>\n",
       "  </thead>\n",
       "  <tbody>\n",
       "    <tr>\n",
       "      <th>0</th>\n",
       "      <td>0</td>\n",
       "      <td>2018-01-02</td>\n",
       "      <td>172.259995</td>\n",
       "      <td>AAPL</td>\n",
       "      <td>0.0</td>\n",
       "      <td>172.259995</td>\n",
       "      <td>0.0</td>\n",
       "      <td>0.0</td>\n",
       "      <td>0.0</td>\n",
       "      <td>0.0</td>\n",
       "      <td>0.0</td>\n",
       "      <td>0.0</td>\n",
       "    </tr>\n",
       "    <tr>\n",
       "      <th>1</th>\n",
       "      <td>1</td>\n",
       "      <td>2018-01-03</td>\n",
       "      <td>172.229996</td>\n",
       "      <td>AAPL</td>\n",
       "      <td>0.0</td>\n",
       "      <td>172.229996</td>\n",
       "      <td>0.0</td>\n",
       "      <td>0.0</td>\n",
       "      <td>0.0</td>\n",
       "      <td>0.0</td>\n",
       "      <td>0.0</td>\n",
       "      <td>0.0</td>\n",
       "    </tr>\n",
       "    <tr>\n",
       "      <th>2</th>\n",
       "      <td>2</td>\n",
       "      <td>2018-01-04</td>\n",
       "      <td>173.029999</td>\n",
       "      <td>AAPL</td>\n",
       "      <td>0.0</td>\n",
       "      <td>173.029999</td>\n",
       "      <td>0.0</td>\n",
       "      <td>0.0</td>\n",
       "      <td>0.0</td>\n",
       "      <td>0.0</td>\n",
       "      <td>0.0</td>\n",
       "      <td>0.0</td>\n",
       "    </tr>\n",
       "    <tr>\n",
       "      <th>3</th>\n",
       "      <td>3</td>\n",
       "      <td>2018-01-05</td>\n",
       "      <td>175.000000</td>\n",
       "      <td>AAPL</td>\n",
       "      <td>0.0</td>\n",
       "      <td>175.000000</td>\n",
       "      <td>0.0</td>\n",
       "      <td>0.0</td>\n",
       "      <td>0.0</td>\n",
       "      <td>0.0</td>\n",
       "      <td>0.0</td>\n",
       "      <td>0.0</td>\n",
       "    </tr>\n",
       "    <tr>\n",
       "      <th>4</th>\n",
       "      <td>4</td>\n",
       "      <td>2018-01-08</td>\n",
       "      <td>174.350006</td>\n",
       "      <td>AAPL</td>\n",
       "      <td>0.0</td>\n",
       "      <td>174.350006</td>\n",
       "      <td>0.0</td>\n",
       "      <td>0.0</td>\n",
       "      <td>0.0</td>\n",
       "      <td>0.0</td>\n",
       "      <td>0.0</td>\n",
       "      <td>0.0</td>\n",
       "    </tr>\n",
       "  </tbody>\n",
       "</table>\n",
       "</div>"
      ],
      "text/plain": [
       "   Unnamed: 0        Date       Close Symbol  AAL        AAPL  AMZN    F   FB  \\\n",
       "0           0  2018-01-02  172.259995   AAPL  0.0  172.259995   0.0  0.0  0.0   \n",
       "1           1  2018-01-03  172.229996   AAPL  0.0  172.229996   0.0  0.0  0.0   \n",
       "2           2  2018-01-04  173.029999   AAPL  0.0  173.029999   0.0  0.0  0.0   \n",
       "3           3  2018-01-05  175.000000   AAPL  0.0  175.000000   0.0  0.0  0.0   \n",
       "4           4  2018-01-08  174.350006   AAPL  0.0  174.350006   0.0  0.0  0.0   \n",
       "\n",
       "    GE  GOOGL  TWTR  \n",
       "0  0.0    0.0   0.0  \n",
       "1  0.0    0.0   0.0  \n",
       "2  0.0    0.0   0.0  \n",
       "3  0.0    0.0   0.0  \n",
       "4  0.0    0.0   0.0  "
      ]
     },
     "execution_count": 7,
     "metadata": {},
     "output_type": "execute_result"
    }
   ],
   "source": [
    "symbol_dummies = pd.get_dummies(df['Symbol']) \n",
    "symbol_dummies.sum()\n",
    "\n",
    "for col in symbol_dummies.columns:\n",
    "    symbol_dummies[col] = symbol_dummies[col]*df['Close']\n",
    "    \n",
    "df = pd.concat([df, symbol_dummies], axis=1)\n",
    "df.head()"
   ]
  },
  {
   "cell_type": "code",
   "execution_count": 13,
   "metadata": {},
   "outputs": [],
   "source": [
    "close_df = df.groupby('Date').sum()"
   ]
  },
  {
   "cell_type": "code",
   "execution_count": null,
   "metadata": {},
   "outputs": [],
   "source": []
  },
  {
   "cell_type": "code",
   "execution_count": 14,
   "metadata": {},
   "outputs": [
    {
     "data": {
      "text/plain": [
       "Index(['Unnamed: 0', 'Date', 'Close', 'Symbol', 'AAL', 'AAPL', 'AMZN', 'F',\n",
       "       'FB', 'GE', 'GOOGL', 'TWTR'],\n",
       "      dtype='object')"
      ]
     },
     "execution_count": 14,
     "metadata": {},
     "output_type": "execute_result"
    }
   ],
   "source": [
    "df.columns"
   ]
  },
  {
   "cell_type": "code",
   "execution_count": 15,
   "metadata": {},
   "outputs": [
    {
     "data": {
      "text/plain": [
       "<matplotlib.axes._subplots.AxesSubplot at 0x7febdf4097b8>"
      ]
     },
     "execution_count": 15,
     "metadata": {},
     "output_type": "execute_result"
    },
    {
     "data": {
      "image/png": "[encoded data removed]",
      "text/plain": [
       "<Figure size 432x288 with 1 Axes>"
      ]
     },
     "metadata": {
      "needs_background": "light"
     },
     "output_type": "display_data"
    }
   ],
   "source": [
    "close_df[['AAL', 'AAPL', 'AMZN', 'F',\n",
    "       'FB', 'GE', 'GOOGL', 'TWTR']].plot.line()"
   ]
  },
  {
   "cell_type": "code",
   "execution_count": 16,
   "metadata": {},
   "outputs": [
    {
     "data": {
      "text/html": [
       "<style  type=\"text/css\" >\n",
       "    #T_21c4f03a_7dda_11ea_a47c_9828a63ff989row0_col0 {\n",
       "            background-color:  #b40426;\n",
       "            color:  #f1f1f1;\n",
       "        }    #T_21c4f03a_7dda_11ea_a47c_9828a63ff989row0_col1 {\n",
       "            background-color:  #3b4cc0;\n",
       "            color:  #f1f1f1;\n",
       "        }    #T_21c4f03a_7dda_11ea_a47c_9828a63ff989row0_col2 {\n",
       "            background-color:  #3b4cc0;\n",
       "            color:  #f1f1f1;\n",
       "        }    #T_21c4f03a_7dda_11ea_a47c_9828a63ff989row0_col3 {\n",
       "            background-color:  #f08a6c;\n",
       "            color:  #000000;\n",
       "        }    #T_21c4f03a_7dda_11ea_a47c_9828a63ff989row0_col4 {\n",
       "            background-color:  #3b4cc0;\n",
       "            color:  #f1f1f1;\n",
       "        }    #T_21c4f03a_7dda_11ea_a47c_9828a63ff989row0_col5 {\n",
       "            background-color:  #e36c55;\n",
       "            color:  #000000;\n",
       "        }    #T_21c4f03a_7dda_11ea_a47c_9828a63ff989row0_col6 {\n",
       "            background-color:  #3b4cc0;\n",
       "            color:  #f1f1f1;\n",
       "        }    #T_21c4f03a_7dda_11ea_a47c_9828a63ff989row0_col7 {\n",
       "            background-color:  #3b4cc0;\n",
       "            color:  #f1f1f1;\n",
       "        }    #T_21c4f03a_7dda_11ea_a47c_9828a63ff989row1_col0 {\n",
       "            background-color:  #7a9df8;\n",
       "            color:  #000000;\n",
       "        }    #T_21c4f03a_7dda_11ea_a47c_9828a63ff989row1_col1 {\n",
       "            background-color:  #b40426;\n",
       "            color:  #f1f1f1;\n",
       "        }    #T_21c4f03a_7dda_11ea_a47c_9828a63ff989row1_col2 {\n",
       "            background-color:  #e57058;\n",
       "            color:  #000000;\n",
       "        }    #T_21c4f03a_7dda_11ea_a47c_9828a63ff989row1_col3 {\n",
       "            background-color:  #7a9df8;\n",
       "            color:  #000000;\n",
       "        }    #T_21c4f03a_7dda_11ea_a47c_9828a63ff989row1_col4 {\n",
       "            background-color:  #7396f5;\n",
       "            color:  #000000;\n",
       "        }    #T_21c4f03a_7dda_11ea_a47c_9828a63ff989row1_col5 {\n",
       "            background-color:  #93b5fe;\n",
       "            color:  #000000;\n",
       "        }    #T_21c4f03a_7dda_11ea_a47c_9828a63ff989row1_col6 {\n",
       "            background-color:  #f7ba9f;\n",
       "            color:  #000000;\n",
       "        }    #T_21c4f03a_7dda_11ea_a47c_9828a63ff989row1_col7 {\n",
       "            background-color:  #d8dce2;\n",
       "            color:  #000000;\n",
       "        }    #T_21c4f03a_7dda_11ea_a47c_9828a63ff989row2_col0 {\n",
       "            background-color:  #3b4cc0;\n",
       "            color:  #f1f1f1;\n",
       "        }    #T_21c4f03a_7dda_11ea_a47c_9828a63ff989row2_col1 {\n",
       "            background-color:  #ed8366;\n",
       "            color:  #000000;\n",
       "        }    #T_21c4f03a_7dda_11ea_a47c_9828a63ff989row2_col2 {\n",
       "            background-color:  #b40426;\n",
       "            color:  #f1f1f1;\n",
       "        }    #T_21c4f03a_7dda_11ea_a47c_9828a63ff989row2_col3 {\n",
       "            background-color:  #3b4cc0;\n",
       "            color:  #f1f1f1;\n",
       "        }    #T_21c4f03a_7dda_11ea_a47c_9828a63ff989row2_col4 {\n",
       "            background-color:  #779af7;\n",
       "            color:  #000000;\n",
       "        }    #T_21c4f03a_7dda_11ea_a47c_9828a63ff989row2_col5 {\n",
       "            background-color:  #3b4cc0;\n",
       "            color:  #f1f1f1;\n",
       "        }    #T_21c4f03a_7dda_11ea_a47c_9828a63ff989row2_col6 {\n",
       "            background-color:  #f7b396;\n",
       "            color:  #000000;\n",
       "        }    #T_21c4f03a_7dda_11ea_a47c_9828a63ff989row2_col7 {\n",
       "            background-color:  #f6bda2;\n",
       "            color:  #000000;\n",
       "        }    #T_21c4f03a_7dda_11ea_a47c_9828a63ff989row3_col0 {\n",
       "            background-color:  #e97a5f;\n",
       "            color:  #000000;\n",
       "        }    #T_21c4f03a_7dda_11ea_a47c_9828a63ff989row3_col1 {\n",
       "            background-color:  #6e90f2;\n",
       "            color:  #000000;\n",
       "        }    #T_21c4f03a_7dda_11ea_a47c_9828a63ff989row3_col2 {\n",
       "            background-color:  #6f92f3;\n",
       "            color:  #000000;\n",
       "        }    #T_21c4f03a_7dda_11ea_a47c_9828a63ff989row3_col3 {\n",
       "            background-color:  #b40426;\n",
       "            color:  #f1f1f1;\n",
       "        }    #T_21c4f03a_7dda_11ea_a47c_9828a63ff989row3_col4 {\n",
       "            background-color:  #e3d9d3;\n",
       "            color:  #000000;\n",
       "        }    #T_21c4f03a_7dda_11ea_a47c_9828a63ff989row3_col5 {\n",
       "            background-color:  #e0654f;\n",
       "            color:  #000000;\n",
       "        }    #T_21c4f03a_7dda_11ea_a47c_9828a63ff989row3_col6 {\n",
       "            background-color:  #5b7ae5;\n",
       "            color:  #000000;\n",
       "        }    #T_21c4f03a_7dda_11ea_a47c_9828a63ff989row3_col7 {\n",
       "            background-color:  #aac7fd;\n",
       "            color:  #000000;\n",
       "        }    #T_21c4f03a_7dda_11ea_a47c_9828a63ff989row4_col0 {\n",
       "            background-color:  #d2dbe8;\n",
       "            color:  #000000;\n",
       "        }    #T_21c4f03a_7dda_11ea_a47c_9828a63ff989row4_col1 {\n",
       "            background-color:  #cedaeb;\n",
       "            color:  #000000;\n",
       "        }    #T_21c4f03a_7dda_11ea_a47c_9828a63ff989row4_col2 {\n",
       "            background-color:  #ebd3c6;\n",
       "            color:  #000000;\n",
       "        }    #T_21c4f03a_7dda_11ea_a47c_9828a63ff989row4_col3 {\n",
       "            background-color:  #f7af91;\n",
       "            color:  #000000;\n",
       "        }    #T_21c4f03a_7dda_11ea_a47c_9828a63ff989row4_col4 {\n",
       "            background-color:  #b40426;\n",
       "            color:  #f1f1f1;\n",
       "        }    #T_21c4f03a_7dda_11ea_a47c_9828a63ff989row4_col5 {\n",
       "            background-color:  #f4c6af;\n",
       "            color:  #000000;\n",
       "        }    #T_21c4f03a_7dda_11ea_a47c_9828a63ff989row4_col6 {\n",
       "            background-color:  #f0cdbb;\n",
       "            color:  #000000;\n",
       "        }    #T_21c4f03a_7dda_11ea_a47c_9828a63ff989row4_col7 {\n",
       "            background-color:  #f7b497;\n",
       "            color:  #000000;\n",
       "        }    #T_21c4f03a_7dda_11ea_a47c_9828a63ff989row5_col0 {\n",
       "            background-color:  #de614d;\n",
       "            color:  #000000;\n",
       "        }    #T_21c4f03a_7dda_11ea_a47c_9828a63ff989row5_col1 {\n",
       "            background-color:  #84a7fc;\n",
       "            color:  #000000;\n",
       "        }    #T_21c4f03a_7dda_11ea_a47c_9828a63ff989row5_col2 {\n",
       "            background-color:  #688aef;\n",
       "            color:  #000000;\n",
       "        }    #T_21c4f03a_7dda_11ea_a47c_9828a63ff989row5_col3 {\n",
       "            background-color:  #e16751;\n",
       "            color:  #000000;\n",
       "        }    #T_21c4f03a_7dda_11ea_a47c_9828a63ff989row5_col4 {\n",
       "            background-color:  #c0d4f5;\n",
       "            color:  #000000;\n",
       "        }    #T_21c4f03a_7dda_11ea_a47c_9828a63ff989row5_col5 {\n",
       "            background-color:  #b40426;\n",
       "            color:  #f1f1f1;\n",
       "        }    #T_21c4f03a_7dda_11ea_a47c_9828a63ff989row5_col6 {\n",
       "            background-color:  #7da0f9;\n",
       "            color:  #000000;\n",
       "        }    #T_21c4f03a_7dda_11ea_a47c_9828a63ff989row5_col7 {\n",
       "            background-color:  #6180e9;\n",
       "            color:  #000000;\n",
       "        }    #T_21c4f03a_7dda_11ea_a47c_9828a63ff989row6_col0 {\n",
       "            background-color:  #92b4fe;\n",
       "            color:  #000000;\n",
       "        }    #T_21c4f03a_7dda_11ea_a47c_9828a63ff989row6_col1 {\n",
       "            background-color:  #f7b194;\n",
       "            color:  #000000;\n",
       "        }    #T_21c4f03a_7dda_11ea_a47c_9828a63ff989row6_col2 {\n",
       "            background-color:  #f29274;\n",
       "            color:  #000000;\n",
       "        }    #T_21c4f03a_7dda_11ea_a47c_9828a63ff989row6_col3 {\n",
       "            background-color:  #7ea1fa;\n",
       "            color:  #000000;\n",
       "        }    #T_21c4f03a_7dda_11ea_a47c_9828a63ff989row6_col4 {\n",
       "            background-color:  #cbd8ee;\n",
       "            color:  #000000;\n",
       "        }    #T_21c4f03a_7dda_11ea_a47c_9828a63ff989row6_col5 {\n",
       "            background-color:  #a2c1ff;\n",
       "            color:  #000000;\n",
       "        }    #T_21c4f03a_7dda_11ea_a47c_9828a63ff989row6_col6 {\n",
       "            background-color:  #b40426;\n",
       "            color:  #f1f1f1;\n",
       "        }    #T_21c4f03a_7dda_11ea_a47c_9828a63ff989row6_col7 {\n",
       "            background-color:  #e7d7ce;\n",
       "            color:  #000000;\n",
       "        }    #T_21c4f03a_7dda_11ea_a47c_9828a63ff989row7_col0 {\n",
       "            background-color:  #6282ea;\n",
       "            color:  #000000;\n",
       "        }    #T_21c4f03a_7dda_11ea_a47c_9828a63ff989row7_col1 {\n",
       "            background-color:  #cbd8ee;\n",
       "            color:  #000000;\n",
       "        }    #T_21c4f03a_7dda_11ea_a47c_9828a63ff989row7_col2 {\n",
       "            background-color:  #f7af91;\n",
       "            color:  #000000;\n",
       "        }    #T_21c4f03a_7dda_11ea_a47c_9828a63ff989row7_col3 {\n",
       "            background-color:  #9fbfff;\n",
       "            color:  #000000;\n",
       "        }    #T_21c4f03a_7dda_11ea_a47c_9828a63ff989row7_col4 {\n",
       "            background-color:  #d7dce3;\n",
       "            color:  #000000;\n",
       "        }    #T_21c4f03a_7dda_11ea_a47c_9828a63ff989row7_col5 {\n",
       "            background-color:  #5977e3;\n",
       "            color:  #000000;\n",
       "        }    #T_21c4f03a_7dda_11ea_a47c_9828a63ff989row7_col6 {\n",
       "            background-color:  #d1dae9;\n",
       "            color:  #000000;\n",
       "        }    #T_21c4f03a_7dda_11ea_a47c_9828a63ff989row7_col7 {\n",
       "            background-color:  #b40426;\n",
       "            color:  #f1f1f1;\n",
       "        }</style><table id=\"T_21c4f03a_7dda_11ea_a47c_9828a63ff989\" ><thead>    <tr>        <th class=\"blank level0\" ></th>        <th class=\"col_heading level0 col0\" >AAL</th>        <th class=\"col_heading level0 col1\" >AAPL</th>        <th class=\"col_heading level0 col2\" >AMZN</th>        <th class=\"col_heading level0 col3\" >F</th>        <th class=\"col_heading level0 col4\" >FB</th>        <th class=\"col_heading level0 col5\" >GE</th>        <th class=\"col_heading level0 col6\" >GOOGL</th>        <th class=\"col_heading level0 col7\" >TWTR</th>    </tr></thead><tbody>\n",
       "                <tr>\n",
       "                        <th id=\"T_21c4f03a_7dda_11ea_a47c_9828a63ff989level0_row0\" class=\"row_heading level0 row0\" >AAL</th>\n",
       "                        <td id=\"T_21c4f03a_7dda_11ea_a47c_9828a63ff989row0_col0\" class=\"data row0 col0\" >1</td>\n",
       "                        <td id=\"T_21c4f03a_7dda_11ea_a47c_9828a63ff989row0_col1\" class=\"data row0 col1\" >-0.299639</td>\n",
       "                        <td id=\"T_21c4f03a_7dda_11ea_a47c_9828a63ff989row0_col2\" class=\"data row0 col2\" >-0.619878</td>\n",
       "                        <td id=\"T_21c4f03a_7dda_11ea_a47c_9828a63ff989row0_col3\" class=\"data row0 col3\" >0.710888</td>\n",
       "                        <td id=\"T_21c4f03a_7dda_11ea_a47c_9828a63ff989row0_col4\" class=\"data row0 col4\" >0.124719</td>\n",
       "                        <td id=\"T_21c4f03a_7dda_11ea_a47c_9828a63ff989row0_col5\" class=\"data row0 col5\" >0.792519</td>\n",
       "                        <td id=\"T_21c4f03a_7dda_11ea_a47c_9828a63ff989row0_col6\" class=\"data row0 col6\" >-0.195775</td>\n",
       "                        <td id=\"T_21c4f03a_7dda_11ea_a47c_9828a63ff989row0_col7\" class=\"data row0 col7\" >-0.414155</td>\n",
       "            </tr>\n",
       "            <tr>\n",
       "                        <th id=\"T_21c4f03a_7dda_11ea_a47c_9828a63ff989level0_row1\" class=\"row_heading level0 row1\" >AAPL</th>\n",
       "                        <td id=\"T_21c4f03a_7dda_11ea_a47c_9828a63ff989row1_col0\" class=\"data row1 col0\" >-0.299639</td>\n",
       "                        <td id=\"T_21c4f03a_7dda_11ea_a47c_9828a63ff989row1_col1\" class=\"data row1 col1\" >1</td>\n",
       "                        <td id=\"T_21c4f03a_7dda_11ea_a47c_9828a63ff989row1_col2\" class=\"data row1 col2\" >0.74483</td>\n",
       "                        <td id=\"T_21c4f03a_7dda_11ea_a47c_9828a63ff989row1_col3\" class=\"data row1 col3\" >-0.0874566</td>\n",
       "                        <td id=\"T_21c4f03a_7dda_11ea_a47c_9828a63ff989row1_col4\" class=\"data row1 col4\" >0.279782</td>\n",
       "                        <td id=\"T_21c4f03a_7dda_11ea_a47c_9828a63ff989row1_col5\" class=\"data row1 col5\" >-0.009787</td>\n",
       "                        <td id=\"T_21c4f03a_7dda_11ea_a47c_9828a63ff989row1_col6\" class=\"data row1 col6\" >0.591362</td>\n",
       "                        <td id=\"T_21c4f03a_7dda_11ea_a47c_9828a63ff989row1_col7\" class=\"data row1 col7\" >0.265705</td>\n",
       "            </tr>\n",
       "            <tr>\n",
       "                        <th id=\"T_21c4f03a_7dda_11ea_a47c_9828a63ff989level0_row2\" class=\"row_heading level0 row2\" >AMZN</th>\n",
       "                        <td id=\"T_21c4f03a_7dda_11ea_a47c_9828a63ff989row2_col0\" class=\"data row2 col0\" >-0.619878</td>\n",
       "                        <td id=\"T_21c4f03a_7dda_11ea_a47c_9828a63ff989row2_col1\" class=\"data row2 col1\" >0.74483</td>\n",
       "                        <td id=\"T_21c4f03a_7dda_11ea_a47c_9828a63ff989row2_col2\" class=\"data row2 col2\" >1</td>\n",
       "                        <td id=\"T_21c4f03a_7dda_11ea_a47c_9828a63ff989row2_col3\" class=\"data row2 col3\" >-0.352055</td>\n",
       "                        <td id=\"T_21c4f03a_7dda_11ea_a47c_9828a63ff989row2_col4\" class=\"data row2 col4\" >0.290792</td>\n",
       "                        <td id=\"T_21c4f03a_7dda_11ea_a47c_9828a63ff989row2_col5\" class=\"data row2 col5\" >-0.380032</td>\n",
       "                        <td id=\"T_21c4f03a_7dda_11ea_a47c_9828a63ff989row2_col6\" class=\"data row2 col6\" >0.621411</td>\n",
       "                        <td id=\"T_21c4f03a_7dda_11ea_a47c_9828a63ff989row2_col7\" class=\"data row2 col7\" >0.505647</td>\n",
       "            </tr>\n",
       "            <tr>\n",
       "                        <th id=\"T_21c4f03a_7dda_11ea_a47c_9828a63ff989level0_row3\" class=\"row_heading level0 row3\" >F</th>\n",
       "                        <td id=\"T_21c4f03a_7dda_11ea_a47c_9828a63ff989row3_col0\" class=\"data row3 col0\" >0.710888</td>\n",
       "                        <td id=\"T_21c4f03a_7dda_11ea_a47c_9828a63ff989row3_col1\" class=\"data row3 col1\" >-0.0874566</td>\n",
       "                        <td id=\"T_21c4f03a_7dda_11ea_a47c_9828a63ff989row3_col2\" class=\"data row3 col2\" >-0.352055</td>\n",
       "                        <td id=\"T_21c4f03a_7dda_11ea_a47c_9828a63ff989row3_col3\" class=\"data row3 col3\" >1</td>\n",
       "                        <td id=\"T_21c4f03a_7dda_11ea_a47c_9828a63ff989row3_col4\" class=\"data row3 col4\" >0.583143</td>\n",
       "                        <td id=\"T_21c4f03a_7dda_11ea_a47c_9828a63ff989row3_col5\" class=\"data row3 col5\" >0.812562</td>\n",
       "                        <td id=\"T_21c4f03a_7dda_11ea_a47c_9828a63ff989row3_col6\" class=\"data row3 col6\" >-0.067747</td>\n",
       "                        <td id=\"T_21c4f03a_7dda_11ea_a47c_9828a63ff989row3_col7\" class=\"data row3 col7\" >0.0571298</td>\n",
       "            </tr>\n",
       "            <tr>\n",
       "                        <th id=\"T_21c4f03a_7dda_11ea_a47c_9828a63ff989level0_row4\" class=\"row_heading level0 row4\" >FB</th>\n",
       "                        <td id=\"T_21c4f03a_7dda_11ea_a47c_9828a63ff989row4_col0\" class=\"data row4 col0\" >0.124719</td>\n",
       "                        <td id=\"T_21c4f03a_7dda_11ea_a47c_9828a63ff989row4_col1\" class=\"data row4 col1\" >0.279782</td>\n",
       "                        <td id=\"T_21c4f03a_7dda_11ea_a47c_9828a63ff989row4_col2\" class=\"data row4 col2\" >0.290792</td>\n",
       "                        <td id=\"T_21c4f03a_7dda_11ea_a47c_9828a63ff989row4_col3\" class=\"data row4 col3\" >0.583143</td>\n",
       "                        <td id=\"T_21c4f03a_7dda_11ea_a47c_9828a63ff989row4_col4\" class=\"data row4 col4\" >1</td>\n",
       "                        <td id=\"T_21c4f03a_7dda_11ea_a47c_9828a63ff989row4_col5\" class=\"data row4 col5\" >0.47587</td>\n",
       "                        <td id=\"T_21c4f03a_7dda_11ea_a47c_9828a63ff989row4_col6\" class=\"data row4 col6\" >0.504881</td>\n",
       "                        <td id=\"T_21c4f03a_7dda_11ea_a47c_9828a63ff989row4_col7\" class=\"data row4 col7\" >0.544802</td>\n",
       "            </tr>\n",
       "            <tr>\n",
       "                        <th id=\"T_21c4f03a_7dda_11ea_a47c_9828a63ff989level0_row5\" class=\"row_heading level0 row5\" >GE</th>\n",
       "                        <td id=\"T_21c4f03a_7dda_11ea_a47c_9828a63ff989row5_col0\" class=\"data row5 col0\" >0.792519</td>\n",
       "                        <td id=\"T_21c4f03a_7dda_11ea_a47c_9828a63ff989row5_col1\" class=\"data row5 col1\" >-0.009787</td>\n",
       "                        <td id=\"T_21c4f03a_7dda_11ea_a47c_9828a63ff989row5_col2\" class=\"data row5 col2\" >-0.380032</td>\n",
       "                        <td id=\"T_21c4f03a_7dda_11ea_a47c_9828a63ff989row5_col3\" class=\"data row5 col3\" >0.812562</td>\n",
       "                        <td id=\"T_21c4f03a_7dda_11ea_a47c_9828a63ff989row5_col4\" class=\"data row5 col4\" >0.47587</td>\n",
       "                        <td id=\"T_21c4f03a_7dda_11ea_a47c_9828a63ff989row5_col5\" class=\"data row5 col5\" >1</td>\n",
       "                        <td id=\"T_21c4f03a_7dda_11ea_a47c_9828a63ff989row5_col6\" class=\"data row5 col6\" >0.0509985</td>\n",
       "                        <td id=\"T_21c4f03a_7dda_11ea_a47c_9828a63ff989row5_col7\" class=\"data row5 col7\" >-0.242258</td>\n",
       "            </tr>\n",
       "            <tr>\n",
       "                        <th id=\"T_21c4f03a_7dda_11ea_a47c_9828a63ff989level0_row6\" class=\"row_heading level0 row6\" >GOOGL</th>\n",
       "                        <td id=\"T_21c4f03a_7dda_11ea_a47c_9828a63ff989row6_col0\" class=\"data row6 col0\" >-0.195775</td>\n",
       "                        <td id=\"T_21c4f03a_7dda_11ea_a47c_9828a63ff989row6_col1\" class=\"data row6 col1\" >0.591362</td>\n",
       "                        <td id=\"T_21c4f03a_7dda_11ea_a47c_9828a63ff989row6_col2\" class=\"data row6 col2\" >0.621411</td>\n",
       "                        <td id=\"T_21c4f03a_7dda_11ea_a47c_9828a63ff989row6_col3\" class=\"data row6 col3\" >-0.067747</td>\n",
       "                        <td id=\"T_21c4f03a_7dda_11ea_a47c_9828a63ff989row6_col4\" class=\"data row6 col4\" >0.504881</td>\n",
       "                        <td id=\"T_21c4f03a_7dda_11ea_a47c_9828a63ff989row6_col5\" class=\"data row6 col5\" >0.0509985</td>\n",
       "                        <td id=\"T_21c4f03a_7dda_11ea_a47c_9828a63ff989row6_col6\" class=\"data row6 col6\" >1</td>\n",
       "                        <td id=\"T_21c4f03a_7dda_11ea_a47c_9828a63ff989row6_col7\" class=\"data row6 col7\" >0.349694</td>\n",
       "            </tr>\n",
       "            <tr>\n",
       "                        <th id=\"T_21c4f03a_7dda_11ea_a47c_9828a63ff989level0_row7\" class=\"row_heading level0 row7\" >TWTR</th>\n",
       "                        <td id=\"T_21c4f03a_7dda_11ea_a47c_9828a63ff989row7_col0\" class=\"data row7 col0\" >-0.414155</td>\n",
       "                        <td id=\"T_21c4f03a_7dda_11ea_a47c_9828a63ff989row7_col1\" class=\"data row7 col1\" >0.265705</td>\n",
       "                        <td id=\"T_21c4f03a_7dda_11ea_a47c_9828a63ff989row7_col2\" class=\"data row7 col2\" >0.505647</td>\n",
       "                        <td id=\"T_21c4f03a_7dda_11ea_a47c_9828a63ff989row7_col3\" class=\"data row7 col3\" >0.0571298</td>\n",
       "                        <td id=\"T_21c4f03a_7dda_11ea_a47c_9828a63ff989row7_col4\" class=\"data row7 col4\" >0.544802</td>\n",
       "                        <td id=\"T_21c4f03a_7dda_11ea_a47c_9828a63ff989row7_col5\" class=\"data row7 col5\" >-0.242258</td>\n",
       "                        <td id=\"T_21c4f03a_7dda_11ea_a47c_9828a63ff989row7_col6\" class=\"data row7 col6\" >0.349694</td>\n",
       "                        <td id=\"T_21c4f03a_7dda_11ea_a47c_9828a63ff989row7_col7\" class=\"data row7 col7\" >1</td>\n",
       "            </tr>\n",
       "    </tbody></table>"
      ],
      "text/plain": [
       "<pandas.io.formats.style.Styler at 0x7febde649710>"
      ]
     },
     "execution_count": 16,
     "metadata": {},
     "output_type": "execute_result"
    }
   ],
   "source": [
    "corr = close_df[['AAL', 'AAPL', 'AMZN', 'F',\n",
    "       'FB', 'GE', 'GOOGL', 'TWTR']].corr()\n",
    "\n",
    "corr.style.background_gradient(cmap='coolwarm')"
   ]
  },
  {
   "cell_type": "code",
   "execution_count": 12,
   "metadata": {},
   "outputs": [
    {
     "data": {
      "text/plain": [
       "<matplotlib.axes._subplots.AxesSubplot at 0x7febde8380f0>"
      ]
     },
     "execution_count": 12,
     "metadata": {},
     "output_type": "execute_result"
    },
    {
     "data": {
      "image/png": "[encoded data removed]",
      "text/plain": [
       "<Figure size 720x576 with 2 Axes>"
      ]
     },
     "metadata": {
      "needs_background": "light"
     },
     "output_type": "display_data"
    }
   ],
   "source": [
    "f, ax = plt.subplots(figsize=(10, 8))\n",
    "sns.heatmap(corr)"
   ]
  },
  {
   "cell_type": "code",
   "execution_count": null,
   "metadata": {},
   "outputs": [],
   "source": []
  },
  {
   "cell_type": "code",
   "execution_count": null,
   "metadata": {},
   "outputs": [],
   "source": []
  }
 ],
 "metadata": {
  "kernelspec": {
   "display_name": "Python 3",
   "language": "python",
   "name": "python3"
  },
  "language_info": {
   "codemirror_mode": {
    "name": "ipython",
    "version": 3
   },
   "file_extension": ".py",
   "mimetype": "text/x-python",
   "name": "python",
   "nbconvert_exporter": "python",
   "pygments_lexer": "ipython3",
   "version": "3.6.8"
  }
 },
 "nbformat": 4,
 "nbformat_minor": 2
}
