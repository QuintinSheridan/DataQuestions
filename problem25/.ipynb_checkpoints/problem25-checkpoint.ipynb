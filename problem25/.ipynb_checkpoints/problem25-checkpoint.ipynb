{
 "cells": [
  {
   "cell_type": "code",
   "execution_count": 1,
   "metadata": {},
   "outputs": [],
   "source": [
    "import pandas as pd\n",
    "import numpy as np\n",
    "import sqlite3"
   ]
  },
  {
   "cell_type": "code",
   "execution_count": 2,
   "metadata": {},
   "outputs": [],
   "source": [
    "def create_connection(db_file):\n",
    "    \"\"\" create a database connection to the SQLite database\n",
    "        specified by the db_file\n",
    "    :param db_file: database file\n",
    "    :return: Connection object or None\n",
    "    \"\"\"\n",
    "    conn = None\n",
    "    try:\n",
    "        conn = sqlite3.connect(db_file)\n",
    "    except Error as e:\n",
    "        print(e)\n",
    " \n",
    "    return conn\n",
    "\n"
   ]
  },
  {
   "cell_type": "code",
   "execution_count": 3,
   "metadata": {},
   "outputs": [],
   "source": [
    "def create_tables():\n",
    "    '''Function to create tables\n",
    "    Args:\n",
    "        None\n",
    "    Returns:\n",
    "        None\n",
    "    '''\n",
    "\n",
    "    conn = create_connection('problem25.db')\n",
    "    cur = conn.cursor()\n",
    "    \n",
    "    cur.execute('DROP TABLE IF EXISTS stores')\n",
    "    cur.execute('DROP TABLE IF EXISTS products')\n",
    "    cur.execute('DROP TABLE IF EXISTS sales')\n",
    "    conn.commit()\n",
    "\n",
    "    #store_id, location\n",
    "    store_stuff =np.array([\n",
    "    [91110, 'New York'],\n",
    "    [99525, 'Los Angeles'],\n",
    "    [37340, 'Tokyo'],\n",
    "    [32016, 'Detroit'],\n",
    "    [57507, 'London']])\n",
    "\n",
    "    print(store_stuff[:,0])\n",
    "    store_df = pd.DataFrame({'store_id':store_stuff[:,0], 'location':store_stuff[:,1]}) \n",
    "    \n",
    "    \n",
    "    store_query = '''\n",
    "        create table if not exists stores(\n",
    "        store_id int,\n",
    "        location varchar(25)\n",
    "        );\n",
    "    '''\n",
    "\n",
    "    cur.execute(store_query)\n",
    "    conn.commit()\n",
    "\n",
    "    store_insert = '''\n",
    "        INSERT INTO stores(store_id, location) VALUES(?,?)\n",
    "    '''\n",
    "\n",
    "    for _, row in store_df.iterrows():\n",
    "        cur.execute(store_insert, (row['store_id'], row['location']))\n",
    "        conn.commit()\n",
    "\n",
    "    #product_id product_name price_usd\n",
    "    product_stuff = np.array([\n",
    "    [31331, 'Apples', 2],\n",
    "    [34611, 'Lettuce', 3],\n",
    "    [49760, 'Chicken',5],\n",
    "    [26583, 'Lemons', 1],\n",
    "    [20267, 'Bread', 2]])\n",
    "\n",
    "    product_df = pd.DataFrame({'product_id':product_stuff[:,0], 'product_name':product_stuff[:,1] ,\n",
    "                               'price_usd':product_stuff[:,2]})\n",
    "\n",
    "    product_query = '''\n",
    "        CREATE TABLE products(\n",
    "        product_id int,\n",
    "        product_name varachar(25),\n",
    "        price_usd int\n",
    "        )\n",
    "    '''\n",
    "\n",
    "    cur.execute(product_query)\n",
    "    conn.commit()\n",
    "\n",
    "    poduct_insert = '''\n",
    "        INSERT INTO products(product_id, product_name, price_usd) VALUES(?,?,?)\n",
    "    '''\n",
    "\n",
    "    for _, row in product_df.iterrows():\n",
    "        cur.execute(poduct_insert, (row['product_id'], row['product_name'], row['price_usd']))\n",
    "        conn.commit()\n",
    "\n",
    "    #sale_id product_id store_id date\n",
    "    sales_stuff = np.array([\n",
    "    [1, 31331, 91110, '02/20/2020'],\n",
    "    [2, 34611, 57507, '02/20/2020'],\n",
    "    [3, 26583, 37340, '02/20/2020'],\n",
    "    [3, 34611, 32016, '02/20/2020'],\n",
    "    [3, 20267, 99525, '02/21/2020'],\n",
    "    [4, 31331, 99525, '02/21/2020'],\n",
    "    [5, 49760, 99525, '02/21/2020'],\n",
    "    [6, 34611, 57507, '02/21/2020'],\n",
    "    [7, 31331, 91110, '02/21/2020']])\n",
    "\n",
    "    sales_df = pd.DataFrame({'sale_id':sales_stuff[:,0], 'product_id':sales_stuff[:,1], \n",
    "                             'store_id':sales_stuff[:,2], 'date':sales_stuff[:,3]})\n",
    "\n",
    "    create_sales = '''\n",
    "        CREATE TABLE sales(\n",
    "        sale_id int,\n",
    "        product_id int,\n",
    "        store_id int,\n",
    "        date varchar(25)\n",
    "        )\n",
    "    '''\n",
    "\n",
    "    cur.execute(create_sales)\n",
    "    conn.commit()\n",
    "    \n",
    "    insert_sales = '''\n",
    "        INSERT INTO sales(sale_id, product_id, store_id, date) VALUES(?,?,?,?)\n",
    "    '''\n",
    "\n",
    "    for _, row in sales_df.iterrows():\n",
    "        cur.execute(insert_sales, (row['sale_id'], row['product_id'], row['store_id'], row['date']))\n",
    "        conn.commit()\n",
    "    \n",
    "\n"
   ]
  },
  {
   "cell_type": "code",
   "execution_count": 4,
   "metadata": {},
   "outputs": [
    {
     "name": "stdout",
     "output_type": "stream",
     "text": [
      "['91110' '99525' '37340' '32016' '57507']\n"
     ]
    }
   ],
   "source": [
    "create_tables()"
   ]
  },
  {
   "cell_type": "code",
   "execution_count": 5,
   "metadata": {},
   "outputs": [],
   "source": [
    "def select_stores():\n",
    "    conn = create_connection('problem25.db')\n",
    "    cur = conn.cursor()\n",
    "    \n",
    "    stores_df = pd.read_sql('SELECT * FROM stores', conn)\n",
    "    products_df = pd.read_sql('SELECT * FROM products', conn)\n",
    "    sales_df = pd.read_sql('SELECT * FROM sales', conn)\n",
    "    \n",
    "    print(stores_df)\n",
    "    print(products_df)\n",
    "    print(sales_df)"
   ]
  },
  {
   "cell_type": "code",
   "execution_count": 6,
   "metadata": {},
   "outputs": [
    {
     "name": "stdout",
     "output_type": "stream",
     "text": [
      "   store_id     location\n",
      "0     91110     New York\n",
      "1     99525  Los Angeles\n",
      "2     37340        Tokyo\n",
      "3     32016      Detroit\n",
      "4     57507       London\n",
      "   product_id product_name  price_usd\n",
      "0       31331       Apples          2\n",
      "1       34611      Lettuce          3\n",
      "2       49760      Chicken          5\n",
      "3       26583       Lemons          1\n",
      "4       20267        Bread          2\n",
      "   sale_id  product_id  store_id        date\n",
      "0        1       31331     91110  02/20/2020\n",
      "1        2       34611     57507  02/20/2020\n",
      "2        3       26583     37340  02/20/2020\n",
      "3        3       34611     32016  02/20/2020\n",
      "4        3       20267     99525  02/21/2020\n",
      "5        4       31331     99525  02/21/2020\n",
      "6        5       49760     99525  02/21/2020\n",
      "7        6       34611     57507  02/21/2020\n",
      "8        7       31331     91110  02/21/2020\n"
     ]
    }
   ],
   "source": [
    "\n",
    "select_stores()"
   ]
  },
  {
   "cell_type": "code",
   "execution_count": null,
   "metadata": {},
   "outputs": [],
   "source": [
    "location\tnumber_sales\tavg_sale_price"
   ]
  },
  {
   "cell_type": "code",
   "execution_count": 15,
   "metadata": {},
   "outputs": [],
   "source": [
    "def get_results():\n",
    "    conn = create_connection('problem25.db')\n",
    "    \n",
    "    query = '''\n",
    "        SELECT \n",
    "            location, \n",
    "            count (*) as number_sales,\n",
    "            AVG(price_usd)\n",
    "        FROM\n",
    "            stores AS st LEFT JOIN sales AS sl ON st.store_id = sl.store_id\n",
    "            LEFT JOIN products AS p ON sl.product_id = p.product_id\n",
    "        GROUP BY\n",
    "            location\n",
    "    '''\n",
    "    \n",
    "    \n",
    "    df = pd.read_sql(query, conn)\n",
    "    \n",
    "    print(df)\n",
    "    \n",
    "    "
   ]
  },
  {
   "cell_type": "code",
   "execution_count": 16,
   "metadata": {},
   "outputs": [
    {
     "name": "stdout",
     "output_type": "stream",
     "text": [
      "      location  number_sales  AVG(price_usd)\n",
      "0      Detroit             1             3.0\n",
      "1       London             2             3.0\n",
      "2  Los Angeles             3             3.0\n",
      "3     New York             2             2.0\n",
      "4        Tokyo             1             1.0\n"
     ]
    }
   ],
   "source": [
    "get_results()"
   ]
  },
  {
   "cell_type": "code",
   "execution_count": null,
   "metadata": {},
   "outputs": [],
   "source": []
  }
 ],
 "metadata": {
  "kernelspec": {
   "display_name": "Python 3",
   "language": "python",
   "name": "python3"
  },
  "language_info": {
   "codemirror_mode": {
    "name": "ipython",
    "version": 3
   },
   "file_extension": ".py",
   "mimetype": "text/x-python",
   "name": "python",
   "nbconvert_exporter": "python",
   "pygments_lexer": "ipython3",
   "version": "3.6.8"
  }
 },
 "nbformat": 4,
 "nbformat_minor": 2
}
