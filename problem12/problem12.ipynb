{
 "cells": [
  {
   "cell_type": "code",
   "execution_count": null,
   "metadata": {},
   "outputs": [],
   "source": [
    "# Company XYZ Human Resource department is trying to understand compensation \n",
    "# across the company and asked you to pull data to help them make a decision regarding employee compensation.\n",
    "\n",
    "# Question: Can you pull the average, median, minimum, maximum, and \n",
    "#     standard deviations for salary across 5 year experience buckets at Company XYZ? \n",
    "#     (e.g. get the corresponding average, median, minimum, maximum, and standard deviations \n",
    "#      for experience buckets 0-5, 5-10, 10-15, etc.)\n",
    "\n",
    "# You can assume the data is imported into a dataframe named df. \n",
    "# Solution will be provided in Python for premium users."
   ]
  },
  {
   "cell_type": "code",
   "execution_count": 1,
   "metadata": {},
   "outputs": [],
   "source": [
    "import pandas as pd "
   ]
  },
  {
   "cell_type": "code",
   "execution_count": 6,
   "metadata": {},
   "outputs": [],
   "source": [
    "df = pd.DataFrame({\n",
    "    'employee_name':['Bob','Jeff','Joe','Jane','Earl'],\n",
    "    'employee_id':[1,2,3,4,5],\n",
    "    'yrs_of_experience':[3,6,3,7,11],\n",
    "    'yrs_at_company':[2,4,3,5,8],\n",
    "    'compensation':[70,80,70,75,90],\n",
    "    'career_track':['technical', 'executive', 'non-technical', 'non-technical', 'technical']\n",
    "})"
   ]
  },
  {
   "cell_type": "code",
   "execution_count": 13,
   "metadata": {},
   "outputs": [
    {
     "data": {
      "text/html": [
       "<div>\n",
       "<style scoped>\n",
       "    .dataframe tbody tr th:only-of-type {\n",
       "        vertical-align: middle;\n",
       "    }\n",
       "\n",
       "    .dataframe tbody tr th {\n",
       "        vertical-align: top;\n",
       "    }\n",
       "\n",
       "    .dataframe thead th {\n",
       "        text-align: right;\n",
       "    }\n",
       "</style>\n",
       "<table border=\"1\" class=\"dataframe\">\n",
       "  <thead>\n",
       "    <tr style=\"text-align: right;\">\n",
       "      <th></th>\n",
       "      <th>count</th>\n",
       "      <th>mean</th>\n",
       "      <th>std</th>\n",
       "      <th>min</th>\n",
       "      <th>25%</th>\n",
       "      <th>50%</th>\n",
       "      <th>75%</th>\n",
       "      <th>max</th>\n",
       "    </tr>\n",
       "    <tr>\n",
       "      <th>experience</th>\n",
       "      <th></th>\n",
       "      <th></th>\n",
       "      <th></th>\n",
       "      <th></th>\n",
       "      <th></th>\n",
       "      <th></th>\n",
       "      <th></th>\n",
       "      <th></th>\n",
       "    </tr>\n",
       "  </thead>\n",
       "  <tbody>\n",
       "    <tr>\n",
       "      <th>low</th>\n",
       "      <td>2.0</td>\n",
       "      <td>70.0</td>\n",
       "      <td>0.000000</td>\n",
       "      <td>70.0</td>\n",
       "      <td>70.00</td>\n",
       "      <td>70.0</td>\n",
       "      <td>70.00</td>\n",
       "      <td>70.0</td>\n",
       "    </tr>\n",
       "    <tr>\n",
       "      <th>medium</th>\n",
       "      <td>2.0</td>\n",
       "      <td>77.5</td>\n",
       "      <td>3.535534</td>\n",
       "      <td>75.0</td>\n",
       "      <td>76.25</td>\n",
       "      <td>77.5</td>\n",
       "      <td>78.75</td>\n",
       "      <td>80.0</td>\n",
       "    </tr>\n",
       "    <tr>\n",
       "      <th>highe</th>\n",
       "      <td>1.0</td>\n",
       "      <td>90.0</td>\n",
       "      <td>NaN</td>\n",
       "      <td>90.0</td>\n",
       "      <td>90.00</td>\n",
       "      <td>90.0</td>\n",
       "      <td>90.00</td>\n",
       "      <td>90.0</td>\n",
       "    </tr>\n",
       "    <tr>\n",
       "      <th>highest</th>\n",
       "      <td>0.0</td>\n",
       "      <td>NaN</td>\n",
       "      <td>NaN</td>\n",
       "      <td>NaN</td>\n",
       "      <td>NaN</td>\n",
       "      <td>NaN</td>\n",
       "      <td>NaN</td>\n",
       "      <td>NaN</td>\n",
       "    </tr>\n",
       "  </tbody>\n",
       "</table>\n",
       "</div>"
      ],
      "text/plain": [
       "            count  mean       std   min    25%   50%    75%   max\n",
       "experience                                                       \n",
       "low           2.0  70.0  0.000000  70.0  70.00  70.0  70.00  70.0\n",
       "medium        2.0  77.5  3.535534  75.0  76.25  77.5  78.75  80.0\n",
       "highe         1.0  90.0       NaN  90.0  90.00  90.0  90.00  90.0\n",
       "highest       0.0   NaN       NaN   NaN    NaN   NaN    NaN   NaN"
      ]
     },
     "execution_count": 13,
     "metadata": {},
     "output_type": "execute_result"
    }
   ],
   "source": [
    "# bin by experience\n",
    "df['experience'] = pd.cut(df['yrs_of_experience'], [0,5,10,15,20], labels = ['low', 'medium', 'highe', 'highest'])\n",
    "# grouoy by apply\n",
    "#df.groupby('experience')['compensation'].apply([('mean','mean'),('min','min'),('max','max'), ('std','std')])\n",
    "df.groupby('experience')['compensation'].describe()"
   ]
  },
  {
   "cell_type": "code",
   "execution_count": null,
   "metadata": {},
   "outputs": [],
   "source": []
  }
 ],
 "metadata": {
  "kernelspec": {
   "display_name": "Python 3",
   "language": "python",
   "name": "python3"
  },
  "language_info": {
   "codemirror_mode": {
    "name": "ipython",
    "version": 3
   },
   "file_extension": ".py",
   "mimetype": "text/x-python",
   "name": "python",
   "nbconvert_exporter": "python",
   "pygments_lexer": "ipython3",
   "version": "3.6.8"
  }
 },
 "nbformat": 4,
 "nbformat_minor": 2
}
