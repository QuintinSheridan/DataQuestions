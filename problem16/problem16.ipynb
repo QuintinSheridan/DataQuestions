{
 "cells": [
  {
   "cell_type": "code",
   "execution_count": 1,
   "metadata": {},
   "outputs": [],
   "source": [
    "# Below is a snippet from a table that contains information about employees that work at Company XYZ:\n",
    "\n",
    "\n",
    "# employee_name\temployee_id\tdate_joined\tage\tyrs_of_experience\n",
    "# Andy\t123456\t2015-02-15\t45\t24\n",
    "# Beth\t789456\t2014-02-15\t36\t15\n",
    "# Cindy\t654123\t2017-05-16\t34\t14\n",
    "# Dale\t963852\t2018-01-15\t25\t4\n",
    "\n",
    "# Company XYZ is looking to create a report that groups the years of experience of its \n",
    "# employees into 3 simple categories, with the following bins (inclusive):\n",
    "\n",
    "# 0-5 Low\n",
    "# 6-15 Medium\n",
    "# 16+ High\n",
    "# Additionally, you can assume the data is clean and there are no employees with \n",
    "# negative or non-numerical years of experience.\n",
    "\n",
    "# Write code in Python (using Pandas) to create a new column in the dataframe, called \n",
    "#'experience_binned', that groups employees as requested above.\n",
    "\n",
    "\n"
   ]
  },
  {
   "cell_type": "code",
   "execution_count": 2,
   "metadata": {},
   "outputs": [],
   "source": [
    "import pandas as pd"
   ]
  },
  {
   "cell_type": "code",
   "execution_count": 5,
   "metadata": {},
   "outputs": [],
   "source": [
    "df = pd.DataFrame({\n",
    "    'employee_name':['Andy','Beth', 'Cindy', 'Dale'],\n",
    "    'employee_id':[123456, 789456,654123, 963852],\n",
    "    'date_joined':['2015-02-15', '2014-02-15', '2017-05-16', '2018-01-15'],\n",
    "    'age':[45,36,34,25],\n",
    "    'yrs_of_experience':[24,15,14,4]\n",
    "})"
   ]
  },
  {
   "cell_type": "code",
   "execution_count": 13,
   "metadata": {},
   "outputs": [],
   "source": [
    "df['experience_binned'] = pd.cut(df['yrs_of_experience'], bins=[0,5, 15,100], labels = ['lo'])"
   ]
  },
  {
   "cell_type": "code",
   "execution_count": 11,
   "metadata": {},
   "outputs": [
    {
     "data": {
      "text/html": [
       "<div>\n",
       "<style scoped>\n",
       "    .dataframe tbody tr th:only-of-type {\n",
       "        vertical-align: middle;\n",
       "    }\n",
       "\n",
       "    .dataframe tbody tr th {\n",
       "        vertical-align: top;\n",
       "    }\n",
       "\n",
       "    .dataframe thead th {\n",
       "        text-align: right;\n",
       "    }\n",
       "</style>\n",
       "<table border=\"1\" class=\"dataframe\">\n",
       "  <thead>\n",
       "    <tr style=\"text-align: right;\">\n",
       "      <th></th>\n",
       "      <th>employee_name</th>\n",
       "      <th>employee_id</th>\n",
       "      <th>date_joined</th>\n",
       "      <th>age</th>\n",
       "      <th>yrs_of_experience</th>\n",
       "      <th>experience_binned</th>\n",
       "    </tr>\n",
       "  </thead>\n",
       "  <tbody>\n",
       "    <tr>\n",
       "      <th>0</th>\n",
       "      <td>Andy</td>\n",
       "      <td>123456</td>\n",
       "      <td>2015-02-15</td>\n",
       "      <td>45</td>\n",
       "      <td>24</td>\n",
       "      <td>(15, 100]</td>\n",
       "    </tr>\n",
       "    <tr>\n",
       "      <th>1</th>\n",
       "      <td>Beth</td>\n",
       "      <td>789456</td>\n",
       "      <td>2014-02-15</td>\n",
       "      <td>36</td>\n",
       "      <td>15</td>\n",
       "      <td>(5, 15]</td>\n",
       "    </tr>\n",
       "    <tr>\n",
       "      <th>2</th>\n",
       "      <td>Cindy</td>\n",
       "      <td>654123</td>\n",
       "      <td>2017-05-16</td>\n",
       "      <td>34</td>\n",
       "      <td>14</td>\n",
       "      <td>(5, 15]</td>\n",
       "    </tr>\n",
       "    <tr>\n",
       "      <th>3</th>\n",
       "      <td>Dale</td>\n",
       "      <td>963852</td>\n",
       "      <td>2018-01-15</td>\n",
       "      <td>25</td>\n",
       "      <td>4</td>\n",
       "      <td>(0, 5]</td>\n",
       "    </tr>\n",
       "  </tbody>\n",
       "</table>\n",
       "</div>"
      ],
      "text/plain": [
       "  employee_name  employee_id date_joined  age  yrs_of_experience  \\\n",
       "0          Andy       123456  2015-02-15   45                 24   \n",
       "1          Beth       789456  2014-02-15   36                 15   \n",
       "2         Cindy       654123  2017-05-16   34                 14   \n",
       "3          Dale       963852  2018-01-15   25                  4   \n",
       "\n",
       "  experience_binned  \n",
       "0         (15, 100]  \n",
       "1           (5, 15]  \n",
       "2           (5, 15]  \n",
       "3            (0, 5]  "
      ]
     },
     "execution_count": 11,
     "metadata": {},
     "output_type": "execute_result"
    }
   ],
   "source": [
    "df"
   ]
  },
  {
   "cell_type": "code",
   "execution_count": null,
   "metadata": {},
   "outputs": [],
   "source": []
  },
  {
   "cell_type": "code",
   "execution_count": null,
   "metadata": {},
   "outputs": [],
   "source": []
  }
 ],
 "metadata": {
  "kernelspec": {
   "display_name": "Python 3",
   "language": "python",
   "name": "python3"
  },
  "language_info": {
   "codemirror_mode": {
    "name": "ipython",
    "version": 3
   },
   "file_extension": ".py",
   "mimetype": "text/x-python",
   "name": "python",
   "nbconvert_exporter": "python",
   "pygments_lexer": "ipython3",
   "version": "3.6.8"
  }
 },
 "nbformat": 4,
 "nbformat_minor": 2
}
