{
 "cells": [
  {
   "cell_type": "code",
   "execution_count": null,
   "metadata": {},
   "outputs": [],
   "source": [
    "Monthly revenue growth in SQL for Online channel\n",
    "Given the table below, called 'orders', write a SQL query to show the monthly revenue growth for the online channel. To calculate the monthly revenue growth, you can apply the following logic:\n",
    "\n",
    "revenue growth = (current month's revenue-prior month's revenue)/prior month's revenue.\n",
    "\n",
    "order_id\tchannel\tdate\tmonth\trevenue\n",
    "1\tonline\t2018-09-01\t09\t100\n",
    "2\tonline\t2018-09-03\t09\t125\n",
    "3\tin_store\t2018-10-11\t10\t200\n",
    "4\tin_store\t2018-08-21\t08\t80\n",
    "5\tonline\t2018-08-13\t08\t200\n"
   ]
  },
  {
   "cell_type": "code",
   "execution_count": 1,
   "metadata": {},
   "outputs": [],
   "source": [
    "import pandas as pd\n",
    "import numpy as np\n",
    "import sqlite3"
   ]
  },
  {
   "cell_type": "code",
   "execution_count": 2,
   "metadata": {},
   "outputs": [],
   "source": [
    "def create_connection(db_file):\n",
    "    \"\"\" create a database connection to the SQLite database\n",
    "        specified by the db_file\n",
    "    :param db_file: database file\n",
    "    :return: Connection object or None\n",
    "    \"\"\"\n",
    "    conn = None\n",
    "    try:\n",
    "        conn = sqlite3.connect(db_file)\n",
    "    except Exception as e:\n",
    "        print(e)\n",
    " \n",
    "    return conn\n",
    "\n"
   ]
  },
  {
   "cell_type": "code",
   "execution_count": 3,
   "metadata": {},
   "outputs": [],
   "source": [
    "def create_tables():\n",
    "    '''Function to create tables\n",
    "    Args:\n",
    "        None\n",
    "    Returns:\n",
    "        None\n",
    "    '''\n",
    "\n",
    "    conn = create_connection('problem14.db')\n",
    "    cur = conn.cursor()\n",
    "    \n",
    "    cur.execute('DROP TABLE IF EXISTS stores')\n",
    "    \n",
    "    df = pd.DataFrame({\n",
    "        \n",
    "    })\n",
    "\n"
   ]
  }
 ],
 "metadata": {
  "kernelspec": {
   "display_name": "Python 3",
   "language": "python",
   "name": "python3"
  },
  "language_info": {
   "codemirror_mode": {
    "name": "ipython",
    "version": 3
   },
   "file_extension": ".py",
   "mimetype": "text/x-python",
   "name": "python",
   "nbconvert_exporter": "python",
   "pygments_lexer": "ipython3",
   "version": "3.6.8"
  }
 },
 "nbformat": 4,
 "nbformat_minor": 2
}
