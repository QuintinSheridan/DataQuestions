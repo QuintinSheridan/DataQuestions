{
 "cells": [
  {
   "cell_type": "code",
   "execution_count": null,
   "metadata": {},
   "outputs": [],
   "source": [
    "# Suppose we are given an array of n integers which represent the value of some \n",
    "# stock over time. Assuming you are allowed to buy the stock exactly once and \n",
    "# sell the stock once, what is the maximum profit you can make? Can you write \n",
    "# an algorithm that takes in an array of values and returns the maximum profit?\n",
    "\n",
    "# For example, if you are given the following array:\n",
    "\n",
    "# [2, 7, 1, 8, 2, 8, 14, 25, 14, 0, 4, 5]\n",
    "\n",
    "# The maximum profit you can make is 24 because you would buy the stock when \n",
    "# its price is 1 and sell when it's 25. Note that we cannot make 25, because \n",
    "# the stock is priced at 0 after it is priced at 25 (e.g you can't sell before \n",
    "#                                                    you buy).\n",
    "\n",
    "\n",
    "\n",
    "# Want the solutions? Upgrade to premium to receive detailed solutions\n",
    "# to each problem (including this one)\n",
    "\n",
    "# Was this email forwarded to you? Join our list to receive questions"
   ]
  },
  {
   "cell_type": "code",
   "execution_count": 3,
   "metadata": {},
   "outputs": [],
   "source": [
    "import numpy as np"
   ]
  },
  {
   "cell_type": "code",
   "execution_count": 7,
   "metadata": {},
   "outputs": [],
   "source": [
    "def get_max_proffit(prices):\n",
    "    '''Function that returns the max proffit froma single by and sell\n",
    "    Args:\n",
    "        prices ([int]): prices\n",
    "    Returns:\n",
    "        buy (int): buy price\n",
    "        sell (int): sell price\n",
    "        proffit (int): proffit\n",
    "    '''\n",
    "    buy = 0\n",
    "    sell = 0\n",
    "    proffit = 0\n",
    "    for i in range(2):\n",
    "    #for i in range(len(prices)):\n",
    "        price_i = prices[i]\n",
    "        \n",
    "        for j in range(i+1, len(prices), 1):\n",
    "            price_j = prices[j]\n",
    "            prices_i = np.array((len(prices)-(j+1))*[price_i])\n",
    "            prices_j = np.array((len(prices)-(j+1))*[price_j]) \n",
    "            print(f'prices_i:  {prices_i}')\n",
    "            print(f'prices_j:  {prices_j}')\n",
    "        \n",
    "        \n",
    "        \n",
    "    return buy, sell, proffit\n",
    "    \n",
    "    "
   ]
  },
  {
   "cell_type": "code",
   "execution_count": 8,
   "metadata": {},
   "outputs": [],
   "source": [
    "prices= np.array([2, 7, 1, 8, 2, 8, 14, 25, 14, 0, 4, 5])"
   ]
  },
  {
   "cell_type": "code",
   "execution_count": 9,
   "metadata": {},
   "outputs": [
    {
     "name": "stdout",
     "output_type": "stream",
     "text": [
      "prices_i:  [2 2 2 2 2 2 2 2 2 2]\n",
      "prices_j:  [7 7 7 7 7 7 7 7 7 7]\n",
      "prices_i:  [2 2 2 2 2 2 2 2 2]\n",
      "prices_j:  [1 1 1 1 1 1 1 1 1]\n",
      "prices_i:  [2 2 2 2 2 2 2 2]\n",
      "prices_j:  [8 8 8 8 8 8 8 8]\n",
      "prices_i:  [2 2 2 2 2 2 2]\n",
      "prices_j:  [2 2 2 2 2 2 2]\n",
      "prices_i:  [2 2 2 2 2 2]\n",
      "prices_j:  [8 8 8 8 8 8]\n",
      "prices_i:  [2 2 2 2 2]\n",
      "prices_j:  [14 14 14 14 14]\n",
      "prices_i:  [2 2 2 2]\n",
      "prices_j:  [25 25 25 25]\n",
      "prices_i:  [2 2 2]\n",
      "prices_j:  [14 14 14]\n",
      "prices_i:  [2 2]\n",
      "prices_j:  [0 0]\n",
      "prices_i:  [2]\n",
      "prices_j:  [4]\n",
      "prices_i:  []\n",
      "prices_j:  []\n",
      "prices_i:  [7 7 7 7 7 7 7 7 7]\n",
      "prices_j:  [1 1 1 1 1 1 1 1 1]\n",
      "prices_i:  [7 7 7 7 7 7 7 7]\n",
      "prices_j:  [8 8 8 8 8 8 8 8]\n",
      "prices_i:  [7 7 7 7 7 7 7]\n",
      "prices_j:  [2 2 2 2 2 2 2]\n",
      "prices_i:  [7 7 7 7 7 7]\n",
      "prices_j:  [8 8 8 8 8 8]\n",
      "prices_i:  [7 7 7 7 7]\n",
      "prices_j:  [14 14 14 14 14]\n",
      "prices_i:  [7 7 7 7]\n",
      "prices_j:  [25 25 25 25]\n",
      "prices_i:  [7 7 7]\n",
      "prices_j:  [14 14 14]\n",
      "prices_i:  [7 7]\n",
      "prices_j:  [0 0]\n",
      "prices_i:  [7]\n",
      "prices_j:  [4]\n",
      "prices_i:  []\n",
      "prices_j:  []\n"
     ]
    },
    {
     "data": {
      "text/plain": [
       "(0, 0, 0)"
      ]
     },
     "execution_count": 9,
     "metadata": {},
     "output_type": "execute_result"
    }
   ],
   "source": [
    "get_max_proffit(prices)"
   ]
  },
  {
   "cell_type": "code",
   "execution_count": null,
   "metadata": {},
   "outputs": [],
   "source": []
  }
 ],
 "metadata": {
  "kernelspec": {
   "display_name": "Python 3",
   "language": "python",
   "name": "python3"
  },
  "language_info": {
   "codemirror_mode": {
    "name": "ipython",
    "version": 3
   },
   "file_extension": ".py",
   "mimetype": "text/x-python",
   "name": "python",
   "nbconvert_exporter": "python",
   "pygments_lexer": "ipython3",
   "version": "3.6.8"
  }
 },
 "nbformat": 4,
 "nbformat_minor": 2
}
