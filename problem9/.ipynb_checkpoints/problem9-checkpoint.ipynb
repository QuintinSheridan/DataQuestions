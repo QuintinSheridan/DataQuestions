{
 "cells": [
  {
   "cell_type": "code",
   "execution_count": 1,
   "metadata": {},
   "outputs": [],
   "source": [
    "import pandas as pd\n",
    "import numpy as np\n",
    "import sqlite3"
   ]
  },
  {
   "cell_type": "code",
   "execution_count": 2,
   "metadata": {},
   "outputs": [],
   "source": [
    "def create_connection(db_file):\n",
    "    \"\"\" create a database connection to the SQLite database\n",
    "        specified by the db_file\n",
    "    :param db_file: database file\n",
    "    :return: Connection object or None\n",
    "    \"\"\"\n",
    "    conn = None\n",
    "    try:\n",
    "        conn = sqlite3.connect(db_file)\n",
    "    except Exception as e:\n",
    "        print(e)\n",
    " \n",
    "    return conn\n",
    "\n"
   ]
  },
  {
   "cell_type": "code",
   "execution_count": 11,
   "metadata": {},
   "outputs": [],
   "source": [
    "def create_tables():\n",
    "    '''Function to create tables\n",
    "    Args:\n",
    "        None\n",
    "    Returns:\n",
    "        None\n",
    "    '''\n",
    "\n",
    "    conn = create_connection('problem9.db')\n",
    "    cur = conn.cursor()\n",
    "    \n",
    "    cur.execute('DROP TABLE IF EXISTS orders')\n",
    "    cur.execute('DROP TABLE IF EXISTS revinues')\n",
    "\n",
    "    create_orders = '''\n",
    "    CREATE TABLE IF NOT EXISTS orders(\n",
    "    order_id int,\n",
    "    channel varchar,\n",
    "    date varchar,\n",
    "    month varchar\n",
    "    );\n",
    "    '''\n",
    "    \n",
    "    create_revinues='''\n",
    "    CREATE TABLE IF NOT EXISTS revinues(\n",
    "    order_id int, \n",
    "    revinue int\n",
    "    );\n",
    "    '''\n",
    "    \n",
    "    cur.execute(create_orders)\n",
    "    cur.execute(create_revinues)\n",
    "    \n",
    "    orders_df = pd.DataFrame({\n",
    "        'order_id':[1,2,3,4,5,6],\n",
    "        'channel':['Online','Online', 'In_store','In_store','Online','Online'],\n",
    "        'date':['2018-09-01','2018-09-03','2018-10-11','2018-08-21','2018-08-13','2018-10-29'],\n",
    "        'month':['September', 'September', 'October', 'August', 'August', 'October'] \n",
    "        })\n",
    "    \n",
    "    revinues_df = pd.DataFrame({\n",
    "        'order_id':[1,2,3,4,5,6], \n",
    "        'revinue':[100,125,200,80,200,100]\n",
    "        })\n",
    "    \n",
    "    insert_order = '''\n",
    "        INSERT INTO orders(order_id, channel, date, month) VALUES(?,?,?,?)\n",
    "    '''\n",
    "    \n",
    "    insert_revinue = '''\n",
    "        INSERT INTO revinues(order_id, revinue) VALUES(?,?)\n",
    "    '''\n",
    "    \n",
    "    for row in orders_df.itertuples(index=False):\n",
    "        cur.execute(insert_order, row)\n",
    "        \n",
    "    for row in revinues_df.itertuples(index=False):\n",
    "        cur.execute(insert_revinue, row)\n",
    "        \n",
    "    conn.commit()\n",
    "    cur.close()\n",
    "    \n",
    "    \n",
    "    \n",
    "    \n",
    "    "
   ]
  },
  {
   "cell_type": "code",
   "execution_count": 12,
   "metadata": {},
   "outputs": [],
   "source": [
    "create_tables()"
   ]
  },
  {
   "cell_type": "code",
   "execution_count": 23,
   "metadata": {},
   "outputs": [],
   "source": [
    "def get_channel_revinue():\n",
    "    conn = create_connection('problem9.db')\n",
    "    \n",
    "    query='''\n",
    "    SELECT\n",
    "        o.channel,\n",
    "        o.month,\n",
    "        SUM(r.revinue) AS total_revinue\n",
    "    FROM\n",
    "        orders AS o INNER JOIN revinues AS r \n",
    "        ON o.order_id=r.order_id\n",
    "    WHERE\n",
    "        o.month in ('September', 'October')\n",
    "    GROUP BY o.channel, month\n",
    "    '''\n",
    "    \n",
    "    df = pd.read_sql(query, conn)\n",
    "    \n",
    "    conn.close()\n",
    "    \n",
    "    return df"
   ]
  },
  {
   "cell_type": "code",
   "execution_count": 24,
   "metadata": {},
   "outputs": [
    {
     "data": {
      "text/html": [
       "<div>\n",
       "<style scoped>\n",
       "    .dataframe tbody tr th:only-of-type {\n",
       "        vertical-align: middle;\n",
       "    }\n",
       "\n",
       "    .dataframe tbody tr th {\n",
       "        vertical-align: top;\n",
       "    }\n",
       "\n",
       "    .dataframe thead th {\n",
       "        text-align: right;\n",
       "    }\n",
       "</style>\n",
       "<table border=\"1\" class=\"dataframe\">\n",
       "  <thead>\n",
       "    <tr style=\"text-align: right;\">\n",
       "      <th></th>\n",
       "      <th>channel</th>\n",
       "      <th>month</th>\n",
       "      <th>total_revinue</th>\n",
       "    </tr>\n",
       "  </thead>\n",
       "  <tbody>\n",
       "    <tr>\n",
       "      <th>0</th>\n",
       "      <td>In_store</td>\n",
       "      <td>October</td>\n",
       "      <td>200</td>\n",
       "    </tr>\n",
       "    <tr>\n",
       "      <th>1</th>\n",
       "      <td>Online</td>\n",
       "      <td>October</td>\n",
       "      <td>100</td>\n",
       "    </tr>\n",
       "    <tr>\n",
       "      <th>2</th>\n",
       "      <td>Online</td>\n",
       "      <td>September</td>\n",
       "      <td>225</td>\n",
       "    </tr>\n",
       "  </tbody>\n",
       "</table>\n",
       "</div>"
      ],
      "text/plain": [
       "    channel      month  total_revinue\n",
       "0  In_store    October            200\n",
       "1    Online    October            100\n",
       "2    Online  September            225"
      ]
     },
     "execution_count": 24,
     "metadata": {},
     "output_type": "execute_result"
    }
   ],
   "source": [
    "get_channel_revinue()"
   ]
  },
  {
   "cell_type": "code",
   "execution_count": null,
   "metadata": {},
   "outputs": [],
   "source": []
  }
 ],
 "metadata": {
  "kernelspec": {
   "display_name": "Python 3",
   "language": "python",
   "name": "python3"
  },
  "language_info": {
   "codemirror_mode": {
    "name": "ipython",
    "version": 3
   },
   "file_extension": ".py",
   "mimetype": "text/x-python",
   "name": "python",
   "nbconvert_exporter": "python",
   "pygments_lexer": "ipython3",
   "version": "3.6.8"
  }
 },
 "nbformat": 4,
 "nbformat_minor": 2
}
