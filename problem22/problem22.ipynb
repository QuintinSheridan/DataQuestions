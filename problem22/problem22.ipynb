{
 "cells": [
  {
   "cell_type": "code",
   "execution_count": 1,
   "metadata": {},
   "outputs": [],
   "source": [
    "# Given an array of varying length containing multiple #s, and a number x. Write a short program in Python find the remainder of the array multiplication divided by x.\n",
    "\n",
    "# For example:\n",
    "\n",
    "# #Given the following\n",
    "# array = [5,2,4,1,5]\n",
    "# x = 6\n",
    "\n",
    "# #We would calculate output as such:\n",
    "# 5*2*4*1*5 = 200 % 6 = 2\n"
   ]
  },
  {
   "cell_type": "code",
   "execution_count": 2,
   "metadata": {},
   "outputs": [],
   "source": [
    "def get_remainder(my_list, factor):\n",
    "    sum=my_list[0]\n",
    "    for i in range(1, len(my_list)):\n",
    "        sum=sum*my_list[i]\n",
    "    return sum%factor"
   ]
  },
  {
   "cell_type": "code",
   "execution_count": 3,
   "metadata": {},
   "outputs": [
    {
     "data": {
      "text/plain": [
       "2"
      ]
     },
     "execution_count": 3,
     "metadata": {},
     "output_type": "execute_result"
    }
   ],
   "source": [
    "get_remainder([5,2,4,1,5], 6)"
   ]
  },
  {
   "cell_type": "code",
   "execution_count": null,
   "metadata": {},
   "outputs": [],
   "source": []
  }
 ],
 "metadata": {
  "kernelspec": {
   "display_name": "Python 3",
   "language": "python",
   "name": "python3"
  },
  "language_info": {
   "codemirror_mode": {
    "name": "ipython",
    "version": 3
   },
   "file_extension": ".py",
   "mimetype": "text/x-python",
   "name": "python",
   "nbconvert_exporter": "python",
   "pygments_lexer": "ipython3",
   "version": "3.6.8"
  }
 },
 "nbformat": 4,
 "nbformat_minor": 2
}
